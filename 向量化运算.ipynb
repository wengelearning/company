{
 "cells": [
  {
   "cell_type": "code",
   "execution_count": 1,
   "metadata": {
    "collapsed": true
   },
   "outputs": [],
   "source": [
    "import numpy as np\n",
    "import time"
   ]
  },
  {
   "cell_type": "code",
   "execution_count": 9,
   "metadata": {},
   "outputs": [
    {
     "name": "stdout",
     "output_type": "stream",
     "text": [
      "25011.7798494\n",
      "vector version:0.0ms\n",
      "25011.7798494\n",
      "normal version:87.0048999786377ms\n"
     ]
    }
   ],
   "source": [
    "a=np.random.rand(100000)\n",
    "b=np.random.rand(100000)\n",
    "start=time.time()\n",
    "c=np.dot(a,b)#向量点乘\n",
    "stop=time.time()\n",
    "print(c)\n",
    "print('vector version:'+str(1000*(stop-start))+'ms')#运算时间\n",
    "\n",
    "c=0\n",
    "star=time.time()\n",
    "for i in range(100000):\n",
    "    c+=a[i]*b[i]\n",
    "sto=time.time()\n",
    "print(c)\n",
    "print('normal version:'+str(1000*(sto-star))+'ms')\n"
   ]
  },
  {
   "cell_type": "code",
   "execution_count": null,
   "metadata": {
    "collapsed": true
   },
   "outputs": [],
   "source": []
  },
  {
   "cell_type": "code",
   "execution_count": null,
   "metadata": {
    "collapsed": true
   },
   "outputs": [],
   "source": []
  }
 ],
 "metadata": {
  "kernelspec": {
   "display_name": "Python 3",
   "language": "python",
   "name": "python3"
  },
  "language_info": {
   "codemirror_mode": {
    "name": "ipython",
    "version": 3
   },
   "file_extension": ".py",
   "mimetype": "text/x-python",
   "name": "python",
   "nbconvert_exporter": "python",
   "pygments_lexer": "ipython3",
   "version": "3.6.2"
  }
 },
 "nbformat": 4,
 "nbformat_minor": 2
}
