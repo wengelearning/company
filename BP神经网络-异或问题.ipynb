{
 "cells": [
  {
   "cell_type": "code",
   "execution_count": 1,
   "metadata": {
    "collapsed": true
   },
   "outputs": [],
   "source": [
    "import numpy as np"
   ]
  },
  {
   "cell_type": "code",
   "execution_count": 4,
   "metadata": {},
   "outputs": [
    {
     "name": "stdout",
     "output_type": "stream",
     "text": [
      "[[-0.64120167  0.06261755 -0.81850333 -0.0639941 ]\n",
      " [-0.955851    0.94369703  0.49572207  0.35198362]\n",
      " [ 0.04247147 -0.01948391 -0.74992854 -0.40039558]]\n",
      "[[-0.64120167  0.06261755 -0.81850333 -0.0639941 ]\n",
      " [-0.955851    0.94369703  0.49572207  0.35198362]\n",
      " [ 0.04247147 -0.01948391 -0.74992854 -0.40039558]]\n"
     ]
    }
   ],
   "source": [
    "X=np.array([[1,0,0],[1,0,1],[1,1,0],[1,1,1]])\n",
    "Y=np.array([[0,1,1,0]])\n",
    "V=np.random.random((3,4))*2-1\n",
    "W=np.random.random((4,1))*2-1\n",
    "print(V)\n",
    "print(V)\n",
    "lr=0.11\n",
    "def sigmoid(x):\n",
    "    return 1/(1+np.exp(-x))\n",
    "def dsigmoid(x):\n",
    "    return x*(1-x)\n",
    "def update():\n",
    "    global X,Y,V,W,lr\n",
    "    L1=sigmoid(np.dot(X,V))\n",
    "    L2=sigmoid(np.dot(L1,W))\n",
    "    L2_delta=(Y.T-L2)*dsigmoid(L2)\n",
    "    L1_delta=L2_delta.dot(W.T)*dsigmoid(L1)\n",
    "    W_C=lr*L1.T.dot(L2_delta)\n",
    "    V_C=lr*X.T.dot(L1_delta)\n",
    "    W=W+W_C\n",
    "    V=V+V_C\n"
   ]
  },
  {
   "cell_type": "code",
   "execution_count": 6,
   "metadata": {},
   "outputs": [
    {
     "name": "stdout",
     "output_type": "stream",
     "text": [
      "[ 0.12653849 -0.28215122  0.22100687]\n",
      "[ 0.16225166  0.3670434   0.65392667]\n",
      "[ 0.95925755  0.37138346  0.8101289 ]\n"
     ]
    }
   ],
   "source": [
    "a=np.random.randn(3)#标准正态分布\n",
    "b=np.random.rand(3)#[0,1)均匀分布\n",
    "c=np.random.random(3)#[0.0, 1.0)连续均匀分布\n",
    "print(a)\n",
    "print(b)\n",
    "print(c)"
   ]
  },
  {
   "cell_type": "code",
   "execution_count": 8,
   "metadata": {},
   "outputs": [
    {
     "name": "stdout",
     "output_type": "stream",
     "text": [
      "error: 0.0230928073986\n",
      "error: 0.0227421803954\n",
      "error: 0.0224062924431\n",
      "error: 0.022084156749\n",
      "error: 0.0217748757252\n",
      "error: 0.0214776309465\n",
      "error: 0.0211916744493\n",
      "error: 0.0209163211665\n",
      "error: 0.0206509423277\n",
      "error: 0.0203949596834\n",
      "error: 0.0201478404334\n",
      "error: 0.0199090927617\n",
      "error: 0.019678261894\n",
      "error: 0.0194549266064\n",
      "error: 0.0192386961273\n",
      "error: 0.0190292073802\n",
      "error: 0.0188261225236\n",
      "error: 0.0186291267529\n",
      "error: 0.0184379263303\n",
      "error: 0.0182522468161\n",
      "error: 0.0180718314773\n",
      "error: 0.0178964398536\n",
      "error: 0.0177258464614\n",
      "error: 0.0175598396223\n",
      "error: 0.0173982204005\n",
      "error: 0.0172408016384\n",
      "error: 0.0170874070796\n",
      "error: 0.0169378705703\n",
      "error: 0.01679203533\n",
      "error: 0.0166497532867\n",
      "error: 0.0165108844671\n",
      "error: 0.016375296439\n",
      "error: 0.0162428637995\n",
      "error: 0.0161134677049\n",
      "error: 0.0159869954378\n",
      "error: 0.0158633400095\n",
      "error: 0.0157423997926\n",
      "error: 0.015624078182\n",
      "error: 0.015508283282\n",
      "error: 0.0153949276164\n",
      "[[ 0.01439424]\n",
      " [ 0.98565353]\n",
      " [ 0.98357579]\n",
      " [ 0.01597167]]\n",
      "0\n",
      "1\n",
      "1\n",
      "0\n"
     ]
    }
   ],
   "source": [
    "for i in range(20000):\n",
    "    update()\n",
    "    if i%500==0:\n",
    "        L1=sigmoid(np.dot(X,V))\n",
    "        L2=sigmoid(np.dot(L1,W))\n",
    "        print('error:',np.mean(np.abs(Y.T-L2)))\n",
    "L1=sigmoid(np.dot(X,V))\n",
    "L2=sigmoid(np.dot(L1,W))\n",
    "print(L2)\n",
    "def judge(x):\n",
    "    if x>=0.5:\n",
    "        return 1\n",
    "    else:\n",
    "        return 0\n",
    "for i in map(judge,L2):\n",
    "    print(i)\n"
   ]
  },
  {
   "cell_type": "code",
   "execution_count": null,
   "metadata": {
    "collapsed": true
   },
   "outputs": [],
   "source": []
  }
 ],
 "metadata": {
  "kernelspec": {
   "display_name": "Python 3",
   "language": "python",
   "name": "python3"
  },
  "language_info": {
   "codemirror_mode": {
    "name": "ipython",
    "version": 3
   },
   "file_extension": ".py",
   "mimetype": "text/x-python",
   "name": "python",
   "nbconvert_exporter": "python",
   "pygments_lexer": "ipython3",
   "version": "3.6.2"
  }
 },
 "nbformat": 4,
 "nbformat_minor": 2
}
