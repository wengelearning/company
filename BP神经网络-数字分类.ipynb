{
 "cells": [
  {
   "cell_type": "code",
   "execution_count": 3,
   "metadata": {},
   "outputs": [
    {
     "name": "stderr",
     "output_type": "stream",
     "text": [
      "C:\\ProgramData\\Anaconda3\\lib\\site-packages\\sklearn\\cross_validation.py:41: DeprecationWarning: This module was deprecated in version 0.18 in favor of the model_selection module into which all the refactored classes and functions are moved. Also note that the interface of the new CV iterators are different from that of this module. This module will be removed in 0.20.\n",
      "  \"This module will be removed in 0.20.\", DeprecationWarning)\n"
     ]
    }
   ],
   "source": [
    "from sklearn.datasets import load_digits\n",
    "import pylab as pl\n",
    "import numpy as np\n",
    "from sklearn.preprocessing import LabelBinarizer\n",
    "from sklearn.cross_validation import train_test_split"
   ]
  },
  {
   "cell_type": "code",
   "execution_count": 2,
   "metadata": {},
   "outputs": [
    {
     "name": "stdout",
     "output_type": "stream",
     "text": [
      "(1797, 64)\n"
     ]
    },
    {
     "data": {
      "text/plain": [
       "<matplotlib.figure.Figure at 0x9dffaf0>"
      ]
     },
     "metadata": {},
     "output_type": "display_data"
    },
    {
     "data": {
      "image/png": "[encoded data removed]",
      "text/plain": [
       "<matplotlib.figure.Figure at 0x9dffb10>"
      ]
     },
     "metadata": {},
     "output_type": "display_data"
    }
   ],
   "source": [
    "digits=load_digits()#载入数据集\n",
    "print(digits.data.shape)\n",
    "pl.gray()#灰度化图片\n",
    "pl.matshow(digits.images[0])\n",
    "pl.show()"
   ]
  },
  {
   "cell_type": "code",
   "execution_count": 10,
   "metadata": {},
   "outputs": [
    {
     "name": "stdout",
     "output_type": "stream",
     "text": [
      "start\n",
      "epoch: 0 accuracy: 0.104444444444\n",
      "epoch: 1000 accuracy: 0.611111111111\n",
      "epoch: 2000 accuracy: 0.715555555556\n",
      "epoch: 3000 accuracy: 0.908888888889\n",
      "epoch: 4000 accuracy: 0.908888888889\n",
      "epoch: 5000 accuracy: 0.924444444444\n",
      "epoch: 6000 accuracy: 0.944444444444\n",
      "epoch: 7000 accuracy: 0.948888888889\n",
      "epoch: 8000 accuracy: 0.942222222222\n",
      "epoch: 9000 accuracy: 0.942222222222\n",
      "epoch: 10000 accuracy: 0.944444444444\n",
      "epoch: 11000 accuracy: 0.951111111111\n",
      "epoch: 12000 accuracy: 0.951111111111\n",
      "epoch: 13000 accuracy: 0.96\n",
      "epoch: 14000 accuracy: 0.964444444444\n",
      "epoch: 15000 accuracy: 0.962222222222\n",
      "epoch: 16000 accuracy: 0.957777777778\n",
      "epoch: 17000 accuracy: 0.96\n",
      "epoch: 18000 accuracy: 0.966666666667\n",
      "epoch: 19000 accuracy: 0.968888888889\n",
      "epoch: 20000 accuracy: 0.966666666667\n",
      "end\n"
     ]
    }
   ],
   "source": [
    "def sigmoid(x):\n",
    "    return 1/(1+np.exp(-x))\n",
    "def dsigmoid(x):\n",
    "    return x*(1-x)\n",
    "\n",
    "class NeuralNetwork:\n",
    "    def __init__(self,layers):\n",
    "        #权值的初始化，范围-1,1\n",
    "        self.V=np.random.random((layers[0]+1,layers[1]+1))*2-1\n",
    "        self.W=np.random.random((layers[1]+1,layers[2]))*2-1\n",
    "    def train(self,X,y,lr=0.11,epochs=10000):\n",
    "        #添加偏置\n",
    "        temp=np.ones([X.shape[0],X.shape[1]+1])\n",
    "        temp[:,0:-1]=X\n",
    "        X=temp\n",
    "        \n",
    "        for n in range(epochs+1):\n",
    "            i=np.random.randint(X.shape[0])#随机抽取一行数据\n",
    "            x=[X[i]]\n",
    "            x=np.atleast_2d(x)#转为2维数据\n",
    "            L1=sigmoid(np.dot(x,self.V))#隐藏层输出\n",
    "            L2=sigmoid(np.dot(L1,self.W))#输出层输出\n",
    "            \n",
    "            L2_delta=(y[i]-L2)*dsigmoid(L2)\n",
    "            L1_delta=L2_delta.dot(self.W.T)*dsigmoid(L1)\n",
    "            \n",
    "            self.W+=lr*L1.T.dot(L2_delta)\n",
    "            self.V+=lr*x.T.dot(L1_delta)\n",
    "            \n",
    "            if n%1000==0:\n",
    "                predictions=[]\n",
    "                for j in range(X_test.shape[0]):\n",
    "                    o=self.predict(X_test[j])\n",
    "                    predictions.append(np.argmax(o))\n",
    "                accuracy=np.mean(np.equal(predictions,y_test))\n",
    "                print('epoch:',n,'accuracy:',accuracy)\n",
    "    def predict(self,x):\n",
    "            temp=np.ones(x.shape[0]+1)\n",
    "            temp[0:-1]=x\n",
    "            x=temp\n",
    "            x=np.atleast_2d(x)\n",
    "            L1=sigmoid(np.dot(x,self.V))#隐藏层输出\n",
    "            L2=sigmoid(np.dot(L1,self.W))#输出层输出\n",
    "            return L2\n",
    "\n",
    "        \n",
    "digits=load_digits()\n",
    "X=digits.data\n",
    "y=digits.target\n",
    "X-=X.min()\n",
    "X/=X.max()\n",
    "nm=NeuralNetwork([64,100,10])\n",
    "X_train,X_test,y_train,y_test=train_test_split(X,y)#分割训练集 测试集\n",
    "#标签二值化\n",
    "label_train=LabelBinarizer().fit_transform(y_train)\n",
    "label_test=LabelBinarizer().fit_transform(y_test)\n",
    "\n",
    "print('start')\n",
    "nm.train(X_train,label_train,epochs=20000)\n",
    "\n",
    "print('end')\n",
    "            "
   ]
  },
  {
   "cell_type": "code",
   "execution_count": null,
   "metadata": {
    "collapsed": true
   },
   "outputs": [],
   "source": []
  }
 ],
 "metadata": {
  "kernelspec": {
   "display_name": "Python 3",
   "language": "python",
   "name": "python3"
  },
  "language_info": {
   "codemirror_mode": {
    "name": "ipython",
    "version": 3
   },
   "file_extension": ".py",
   "mimetype": "text/x-python",
   "name": "python",
   "nbconvert_exporter": "python",
   "pygments_lexer": "ipython3",
   "version": "3.6.2"
  }
 },
 "nbformat": 4,
 "nbformat_minor": 2
}
